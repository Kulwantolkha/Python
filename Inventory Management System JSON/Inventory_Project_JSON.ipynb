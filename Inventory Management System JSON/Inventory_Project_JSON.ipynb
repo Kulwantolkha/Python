{
 "cells": [
  {
   "cell_type": "markdown",
   "metadata": {},
   "source": [
    "<font size=\"6\">Inventory Management System JSON </font>"
   ]
  },
  {
   "cell_type": "code",
   "execution_count": null,
   "metadata": {},
   "outputs": [],
   "source": [
    "import json\n",
    "\n",
    "# #Make a dictionary to store data\n",
    "# record = {1001 : {'Name' : \"5 Star\", \"Price\" : 10, \"Quantity\" : 200},\n",
    "#           1002 : {'Name' : \"Dairy Milk\", \"Price\" : 20, \"Quantity\" : 100},\n",
    "#           1003 : {'Name' : \"Oreo\", \"Price\" : 30, \"Quantity\" : 200},\n",
    "#           1004 : {'Name' : \"Chocolate Cake\", \"Price\" : 500, \"Quantity\" : 20},\n",
    "#           1005 : {'Name' : \"Candy\", \"Price\" : 2, \"Quantity\" : 500},}"
   ]
  },
  {
   "cell_type": "markdown",
   "metadata": {},
   "source": [
    "<font size=\"2\"> Now here whenever we run the whole code we get the same inventory again from as we have in the beginning. So to solve this we already store the result in json file. Now we will use the json file again and again as it has the updated inventory. </font>"
   ]
  },
  {
   "cell_type": "code",
   "execution_count": null,
   "metadata": {},
   "outputs": [],
   "source": [
    "fd = open(\"Record.json\",'r')\n",
    "js = fd.read()\n",
    "fd.close()\n",
    "\n",
    "record = json.loads(js)              #As we know js is in string mode so json.loads make it in dictionary format\n"
   ]
  },
  {
   "cell_type": "code",
   "execution_count": 80,
   "metadata": {},
   "outputs": [
    {
     "name": "stdout",
     "output_type": "stream",
     "text": [
      "--------------- MENU ---------------\n",
      "1001 : 5 Star | 10 | 0\n",
      "1002 : Dairy Milk | 20 | 70\n",
      "1003 : Oreo | 30 | 200\n",
      "1004 : Chocolate Cake | 500 | 200\n",
      "1005 : Candy | 2 | 500\n",
      "-------------------------------------\n"
     ]
    },
    {
     "name": "stdout",
     "output_type": "stream",
     "text": [
      "-------------------------------------\n",
      "                Bill                   \n",
      "Name                :  Candy\n",
      "Price               :  2\n",
      "Quantity            :  50\n",
      "-------------------------------------\n",
      "Billing Amount      :  ₹ 100\n",
      "-------------------------------------\n"
     ]
    }
   ],
   "source": [
    "print(\"-\"*15,\"MENU\",\"-\"*15)\n",
    "for keys in record:\n",
    "    print(keys,\":\",record[keys][\"Name\"],\"|\",record[keys][\"Price\"],\"|\",record[keys][\"Quantity\"])\n",
    "print(\"-\"*37)\n",
    "\n",
    "user_name = input(\"Enter your name: \")\n",
    "user_email = input(\"Enter your Email: \")\n",
    "user_phone = input(\"Enter you Phone Number: \")\n",
    "user_prID = str(input(\"Enter Product ID: \"))\n",
    "user_qn = int(input(\"Enter Quantity: \"))\n",
    "\n",
    "\n",
    "#updating the inventory record\n",
    "\n",
    "print(\"-\"*37)\n",
    "if(record[user_prID][\"Quantity\"]>=user_qn):\n",
    "    record[user_prID][\"Quantity\"] = record[user_prID][\"Quantity\"] - user_qn\n",
    "    print(\" \"*15,\"Bill\",\" \"*18)\n",
    "\n",
    "    print(\"Name                : \",record[user_prID][\"Name\"])\n",
    "    print(\"Price               : \",record[user_prID][\"Price\"])\n",
    "    print(\"Quantity            : \",user_qn)\n",
    "    print(\"-\"*37)\n",
    "    print(\"Billing Amount      : \",\"₹\",user_qn* int(record[user_prID]['Price']))\n",
    "    print(\"-\"*37)\n",
    "    fd = open(\"Sales_JSON.txt\",'a')\n",
    "    sales_data = \"Name: \"+user_name+\"\\nEmail: \"+user_email+\"\\nPhone No.: \"+user_phone+\"\\nProduct: \"+record[user_prID][\"Name\"]+\"\\nTotal Quantity Purchased: \"+str(user_qn)+\"\\nAmount Paid: \"+\"\\n\\n\\n\"+str((user_qn)*(record[user_prID][\"Price\"]))\n",
    "    fd.write(sales_data)\n",
    "    fd.close()\n",
    "    \n",
    "else:\n",
    "    print(\"Sorry! We have \",record[user_prID][\"Quantity\"],\" number of items only.\")\n",
    "    print(\"Would you like to purchase them all? \")\n",
    "    ch = input(\"Y/N: \")\n",
    "    if(ch==\"y\" or ch==\"Y\"):\n",
    "        print(\" \"*15,\"Bill\",\" \"*18)\n",
    "        print(\"Name                : \",record[user_prID][\"Name\"])\n",
    "        print(\"Price               : \",record[user_prID][\"Price\"])\n",
    "        print(\"Quantity            : \",record[user_prID][\"Quantity\"])\n",
    "        print(\"-\"*37)\n",
    "        print(\"Billing Amount      : \",\"₹\",str((int(record[user_prID][\"Quantity\"]))*(int(record[user_prID]['Price']))))\n",
    "        print(\"-\"*37)\n",
    "        record[user_prID][\"Quantity\"] = 0\n",
    "        fd = open(\"Sales_JSON.txt\",'a')\n",
    "        sales_data = \"Name: \"+user_name+\"\\nEmail: \"+user_email+\"\\nPhone No.: \"+user_phone+\"\\nProduct: \"+record[user_prID][\"Name\"]+\"\\nTotal Quantity Purchased: \"+str(record[user_prID][\"Quantity\"])+\"\\nAmount Paid: \"+str(int(record[user_prID][\"Quantity\"])*int(record[user_prID][\"Price\"]))+\"\\n\\n\\n\"\n",
    "        fd.write(sales_data)\n",
    "        fd.close()\n",
    "        \n",
    "    else:\n",
    "        print(\"Thank You.\")"
   ]
  },
  {
   "cell_type": "code",
   "execution_count": 81,
   "metadata": {},
   "outputs": [],
   "source": [
    "#Saving the current record in js variable\n",
    "js = json.dumps(record)\n",
    "#Saving the updated inventory in json file using json\n",
    "\n",
    "fd = open(\"Record.json\",'w')\n",
    "fd.write(js)\n",
    "fd.close()"
   ]
  },
  {
   "cell_type": "code",
   "execution_count": 82,
   "metadata": {},
   "outputs": [
    {
     "data": {
      "text/plain": [
       "{'1001': {'Name': '5 Star', 'Price': 10, 'Quantity': 0},\n",
       " '1002': {'Name': 'Dairy Milk', 'Price': 20, 'Quantity': 70},\n",
       " '1003': {'Name': 'Oreo', 'Price': 30, 'Quantity': 200},\n",
       " '1004': {'Name': 'Chocolate Cake', 'Price': 500, 'Quantity': 200},\n",
       " '1005': {'Name': 'Candy', 'Price': 2, 'Quantity': 450}}"
      ]
     },
     "execution_count": 82,
     "metadata": {},
     "output_type": "execute_result"
    }
   ],
   "source": [
    "#js is in string format to make it back in dictionary format:\n",
    "json.loads(js)"
   ]
  },
  {
   "cell_type": "code",
   "execution_count": null,
   "metadata": {},
   "outputs": [],
   "source": []
  }
 ],
 "metadata": {
  "kernelspec": {
   "display_name": "Python 3",
   "language": "python",
   "name": "python3"
  },
  "language_info": {
   "codemirror_mode": {
    "name": "ipython",
    "version": 3
   },
   "file_extension": ".py",
   "mimetype": "text/x-python",
   "name": "python",
   "nbconvert_exporter": "python",
   "pygments_lexer": "ipython3",
   "version": "3.12.2"
  }
 },
 "nbformat": 4,
 "nbformat_minor": 2
}
