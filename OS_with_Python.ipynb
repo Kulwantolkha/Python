{
 "cells": [
  {
   "cell_type": "markdown",
   "metadata": {},
   "source": [
    "Operating System with Python"
   ]
  },
  {
   "cell_type": "code",
   "execution_count": 20,
   "metadata": {},
   "outputs": [],
   "source": [
    "import os"
   ]
  },
  {
   "cell_type": "code",
   "execution_count": 21,
   "metadata": {},
   "outputs": [
    {
     "data": {
      "text/plain": [
       "'f:\\\\GeeksForGeeks\\\\Python\\\\Data Toolkit\\\\OS\\\\text_files'"
      ]
     },
     "execution_count": 21,
     "metadata": {},
     "output_type": "execute_result"
    }
   ],
   "source": [
    "#to get current working directory\n",
    "os.getcwd()"
   ]
  },
  {
   "cell_type": "code",
   "execution_count": 22,
   "metadata": {},
   "outputs": [
    {
     "name": "stderr",
     "output_type": "stream",
     "text": [
      "'ls' is not recognized as an internal or external command,\n",
      "operable program or batch file.\n"
     ]
    }
   ],
   "source": [
    "#We can use command prompt commands as well\n",
    "!ls         "
   ]
  },
  {
   "cell_type": "code",
   "execution_count": 23,
   "metadata": {},
   "outputs": [],
   "source": [
    "##to change the direcotry\n",
    "# os.chdir(\"Directory Name\")\n"
   ]
  },
  {
   "cell_type": "code",
   "execution_count": 24,
   "metadata": {},
   "outputs": [],
   "source": [
    "##To go back from that directory\n",
    "# os.chdir(\"../\")\n",
    "# os.getcwd()"
   ]
  },
  {
   "cell_type": "code",
   "execution_count": 25,
   "metadata": {},
   "outputs": [],
   "source": [
    "#To create a folder/directory\n",
    "# os.mkdir(\"GFG\")"
   ]
  },
  {
   "cell_type": "code",
   "execution_count": 26,
   "metadata": {},
   "outputs": [],
   "source": [
    "#To make directory inside directory\n",
    "# os.makedirs(\"GFG/GFG1/GFG2\")"
   ]
  },
  {
   "cell_type": "code",
   "execution_count": 27,
   "metadata": {},
   "outputs": [],
   "source": [
    "#to join paths\n",
    "# os.path.join(\"GFG\",\"GFG\")"
   ]
  },
  {
   "cell_type": "markdown",
   "metadata": {},
   "source": [
    "OS Library - List Directories"
   ]
  },
  {
   "cell_type": "code",
   "execution_count": 28,
   "metadata": {},
   "outputs": [],
   "source": [
    "#to remove a file\n",
    "# os.remove(\"File Name\")    "
   ]
  },
  {
   "cell_type": "code",
   "execution_count": 29,
   "metadata": {},
   "outputs": [],
   "source": [
    "#to remove an empty directory\n",
    "# os.rmdir(\"Directory Name\")"
   ]
  },
  {
   "cell_type": "code",
   "execution_count": 30,
   "metadata": {},
   "outputs": [],
   "source": [
    "# to list files in the cwd\n",
    "# os.listdir()\n",
    "# to list file inside a directory inside cwd\n",
    "# os.listdir(\"Direcoty inside cwd\")\n"
   ]
  },
  {
   "cell_type": "code",
   "execution_count": 31,
   "metadata": {},
   "outputs": [],
   "source": [
    "#to rename a file\n",
    "# os.rename(\"Current name with extension\",\"New name with extension\")\n"
   ]
  },
  {
   "cell_type": "code",
   "execution_count": 32,
   "metadata": {},
   "outputs": [],
   "source": [
    "#to check file exists or not\n",
    "# os.path.exists(\"img/z\")\n",
    "\n",
    "\n",
    "# if(os.path.exists(\"imz/a\")):\n",
    "#     print(\"Folder already exists\")\n",
    "# else:\n",
    "#     os.mkdir(\"imz/a\")"
   ]
  },
  {
   "cell_type": "code",
   "execution_count": 33,
   "metadata": {},
   "outputs": [
    {
     "ename": "FileNotFoundError",
     "evalue": "[WinError 2] The system cannot find the file specified: '3rd_FileHandling.ipynb'",
     "output_type": "error",
     "traceback": [
      "\u001b[1;31m---------------------------------------------------------------------------\u001b[0m",
      "\u001b[1;31mFileNotFoundError\u001b[0m                         Traceback (most recent call last)",
      "Cell \u001b[1;32mIn[33], line 2\u001b[0m\n\u001b[0;32m      1\u001b[0m \u001b[38;5;66;03m#to get the size of a file\u001b[39;00m\n\u001b[1;32m----> 2\u001b[0m \u001b[43mos\u001b[49m\u001b[38;5;241;43m.\u001b[39;49m\u001b[43mpath\u001b[49m\u001b[38;5;241;43m.\u001b[39;49m\u001b[43mgetsize\u001b[49m\u001b[43m(\u001b[49m\u001b[38;5;124;43m\"\u001b[39;49m\u001b[38;5;124;43m3rd_FileHandling.ipynb\u001b[39;49m\u001b[38;5;124;43m\"\u001b[39;49m\u001b[43m)\u001b[49m\n",
      "File \u001b[1;32m<frozen genericpath>:62\u001b[0m, in \u001b[0;36mgetsize\u001b[1;34m(filename)\u001b[0m\n",
      "\u001b[1;31mFileNotFoundError\u001b[0m: [WinError 2] The system cannot find the file specified: '3rd_FileHandling.ipynb'"
     ]
    }
   ],
   "source": [
    "#to get the size of a file\n",
    "os.path.getsize(\"3rd_FileHandling.ipynb\")"
   ]
  },
  {
   "cell_type": "markdown",
   "metadata": {},
   "source": [
    "OS Library - Bulk Directories Creation"
   ]
  },
  {
   "cell_type": "code",
   "execution_count": null,
   "metadata": {},
   "outputs": [],
   "source": [
    "#To make folders in bulk\n",
    "# for i in range(100):\n",
    "#     name = \"GFG/GFG\" + str(i)               #Two folders can't have same name i.e. we added str(i) to make folder with different names\n",
    "#     os.mkdir(name)\n",
    "\n",
    "#Another method\n",
    "# n = \"GFG\"\n",
    "# os.mkdir(n)\n",
    "# for i in range(1000):\n",
    "#     name = n +'/'+n+\" \"+str(i+1)\n",
    "#     os.mkdir(name)\n",
    "#     print(name)"
   ]
  },
  {
   "cell_type": "markdown",
   "metadata": {},
   "source": [
    "OS Library - Hirerical Bulk Directories"
   ]
  },
  {
   "cell_type": "code",
   "execution_count": null,
   "metadata": {},
   "outputs": [],
   "source": [
    "# n = \"GFG\"\n",
    "# os.mkdir(n)\n",
    "# for i in range(10):\n",
    "#     name = n+\"/\"+n+\" \"+str(i)\n",
    "#     os.mkdir(name)\n",
    "#     for j in range(10):\n",
    "#         name1 = n+\"/\"+n+\" \"+str(i)+\"/\"+n+\" \"+str(j)\n",
    "#         os.mkdir(name1)\n",
    "        \n",
    "    \n"
   ]
  },
  {
   "cell_type": "markdown",
   "metadata": {},
   "source": [
    "Bulk Text-file Reading"
   ]
  },
  {
   "cell_type": "code",
   "execution_count": 44,
   "metadata": {},
   "outputs": [
    {
     "data": {
      "text/plain": [
       "['file_1.txt',\n",
       " 'file_10.txt',\n",
       " 'file_11.txt',\n",
       " 'file_12.txt',\n",
       " 'file_13.txt',\n",
       " 'file_14.txt',\n",
       " 'file_15.txt',\n",
       " 'file_16.txt',\n",
       " 'file_17.txt',\n",
       " 'file_18.txt',\n",
       " 'file_19.txt',\n",
       " 'file_2.txt',\n",
       " 'file_20.txt',\n",
       " 'file_21.txt',\n",
       " 'file_22.txt',\n",
       " 'file_23.txt',\n",
       " 'file_24.txt',\n",
       " 'file_25.txt',\n",
       " 'file_3.txt',\n",
       " 'file_4.txt',\n",
       " 'file_5.txt',\n",
       " 'file_6.txt',\n",
       " 'file_7.txt',\n",
       " 'file_8.txt',\n",
       " 'file_9.txt']"
      ]
     },
     "execution_count": 44,
     "metadata": {},
     "output_type": "execute_result"
    }
   ],
   "source": [
    "\n",
    "os.getcwd()\n",
    "files = os.listdir(\"text_files\")\n",
    "files"
   ]
  },
  {
   "cell_type": "code",
   "execution_count": 46,
   "metadata": {},
   "outputs": [
    {
     "data": {
      "text/plain": [
       "25"
      ]
     },
     "execution_count": 46,
     "metadata": {},
     "output_type": "execute_result"
    }
   ],
   "source": [
    "len(files)"
   ]
  },
  {
   "cell_type": "code",
   "execution_count": 47,
   "metadata": {},
   "outputs": [
    {
     "data": {
      "text/plain": [
       "list"
      ]
     },
     "execution_count": 47,
     "metadata": {},
     "output_type": "execute_result"
    }
   ],
   "source": [
    "type(files)"
   ]
  },
  {
   "cell_type": "code",
   "execution_count": 50,
   "metadata": {},
   "outputs": [
    {
     "name": "stdout",
     "output_type": "stream",
     "text": [
      "f:\\GeeksForGeeks\\Python\\Data Toolkit\\OS\\text_files\n",
      "file_1.txt\n",
      "This is the content of file 1.\n",
      "\n",
      "file_2.txt\n",
      "This is the content of file 2.\n",
      "\n",
      "file_3.txt\n",
      "This is the content of file 3.\n",
      "\n",
      "file_4.txt\n",
      "This is the content of file 4.\n",
      "\n",
      "file_5.txt\n",
      "This is the content of file 5.\n",
      "\n",
      "file_6.txt\n",
      "This is the content of file 6.\n",
      "\n",
      "file_7.txt\n",
      "This is the content of file 7.\n",
      "\n",
      "file_8.txt\n",
      "This is the content of file 8.\n",
      "\n",
      "file_9.txt\n",
      "This is the content of file 9.\n",
      "\n",
      "file_10.txt\n",
      "This is the content of file 10.\n",
      "\n",
      "file_11.txt\n",
      "This is the content of file 11.\n",
      "\n",
      "file_12.txt\n",
      "This is the content of file 12.\n",
      "\n",
      "file_13.txt\n",
      "This is the content of file 13.\n",
      "\n",
      "file_14.txt\n",
      "This is the content of file 14.\n",
      "\n",
      "file_15.txt\n",
      "This is the content of file 15.\n",
      "\n",
      "file_16.txt\n",
      "This is the content of file 16.\n",
      "\n",
      "file_17.txt\n",
      "This is the content of file 17.\n",
      "\n",
      "file_18.txt\n",
      "This is the content of file 18.\n",
      "\n",
      "file_19.txt\n",
      "This is the content of file 19.\n",
      "\n",
      "file_20.txt\n",
      "This is the content of file 20.\n",
      "\n",
      "file_21.txt\n",
      "This is the content of file 21.\n",
      "\n",
      "file_22.txt\n",
      "This is the content of file 22.\n",
      "\n",
      "file_23.txt\n",
      "This is the content of file 23.\n",
      "\n",
      "file_24.txt\n",
      "This is the content of file 24.\n",
      "\n",
      "file_25.txt\n",
      "This is the content of file 25.\n",
      "\n"
     ]
    }
   ],
   "source": [
    "print(os.getcwd())\n",
    "# os.chdir(\"text_files\")\n",
    "for i in range(len(files)):\n",
    "    name = \"file_\"+str(i+1)+\".txt\"\n",
    "    print(name)\n",
    "    fd = open(name,'r')\n",
    "    print(fd.read())\n",
    "    fd.close()\n"
   ]
  },
  {
   "cell_type": "markdown",
   "metadata": {},
   "source": [
    "Bulk Text-file Data Combining"
   ]
  },
  {
   "cell_type": "code",
   "execution_count": 52,
   "metadata": {},
   "outputs": [],
   "source": [
    "#We will make a new file and append this all data into that file\n",
    "# os.getcwd()\n",
    "# fd = open(\"Data.txt\",'w')\n",
    "# fd.close()"
   ]
  },
  {
   "cell_type": "code",
   "execution_count": 53,
   "metadata": {},
   "outputs": [
    {
     "data": {
      "text/plain": [
       "['Data.txt',\n",
       " 'file_1.txt',\n",
       " 'file_10.txt',\n",
       " 'file_11.txt',\n",
       " 'file_12.txt',\n",
       " 'file_13.txt',\n",
       " 'file_14.txt',\n",
       " 'file_15.txt',\n",
       " 'file_16.txt',\n",
       " 'file_17.txt',\n",
       " 'file_18.txt',\n",
       " 'file_19.txt',\n",
       " 'file_2.txt',\n",
       " 'file_20.txt',\n",
       " 'file_21.txt',\n",
       " 'file_22.txt',\n",
       " 'file_23.txt',\n",
       " 'file_24.txt',\n",
       " 'file_25.txt',\n",
       " 'file_3.txt',\n",
       " 'file_4.txt',\n",
       " 'file_5.txt',\n",
       " 'file_6.txt',\n",
       " 'file_7.txt',\n",
       " 'file_8.txt',\n",
       " 'file_9.txt']"
      ]
     },
     "execution_count": 53,
     "metadata": {},
     "output_type": "execute_result"
    }
   ],
   "source": [
    "os.listdir()"
   ]
  },
  {
   "cell_type": "code",
   "execution_count": 56,
   "metadata": {},
   "outputs": [],
   "source": [
    "# fd = open(\"Data.txt\",'a')\n",
    "# name = \"file_\"+str(i+1)+\".txt\"\n",
    "# fd.write(name)\n",
    "# fd.close()\n",
    "files\n",
    "\n",
    "for i in range(len(files)):\n",
    "    name = \"file_\"+str(i+1)+\".txt\"\n",
    "    fd = open(\"Data.txt\",'a')\n",
    "    fd1 = open(name,'r')\n",
    "    wr = fd1.read()\n",
    "    fd.write(wr)\n",
    "    fd.close()\n"
   ]
  },
  {
   "cell_type": "code",
   "execution_count": null,
   "metadata": {},
   "outputs": [],
   "source": []
  }
 ],
 "metadata": {
  "kernelspec": {
   "display_name": "Python 3",
   "language": "python",
   "name": "python3"
  },
  "language_info": {
   "codemirror_mode": {
    "name": "ipython",
    "version": 3
   },
   "file_extension": ".py",
   "mimetype": "text/x-python",
   "name": "python",
   "nbconvert_exporter": "python",
   "pygments_lexer": "ipython3",
   "version": "3.12.2"
  }
 },
 "nbformat": 4,
 "nbformat_minor": 2
}
