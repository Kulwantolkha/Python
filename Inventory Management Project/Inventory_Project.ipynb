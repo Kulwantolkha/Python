{
 "cells": [
  {
   "cell_type": "markdown",
   "metadata": {},
   "source": [
    "<font size =\"6\">Inventory Management System</font>"
   ]
  },
  {
   "cell_type": "code",
   "execution_count": 122,
   "metadata": {},
   "outputs": [],
   "source": [
    "#Make a new file\n",
    "fd = open(\"Inventory.txt\",'w')\n",
    "fd.close()"
   ]
  },
  {
   "cell_type": "markdown",
   "metadata": {},
   "source": [
    "<font size = \"4\">Product Details</font>\n",
    "- Serial Number\n",
    "- Product Name\n",
    "- Price\n",
    "- Total Stock"
   ]
  },
  {
   "cell_type": "code",
   "execution_count": 123,
   "metadata": {},
   "outputs": [],
   "source": [
    "#Add Product according to above needs\n",
    "fd = open(\"Inventory.txt\",'w')\n",
    "txt = fd.write(\"1,5 Star,5,100\\n2,LotteChokoPie,5,100\\n3,Dairy Milk,10,100\\n4,Parle-G,5,120\\n5,Happy-Happy,5,150\")\n",
    "fd.close()"
   ]
  },
  {
   "cell_type": "code",
   "execution_count": 124,
   "metadata": {},
   "outputs": [
    {
     "name": "stdout",
     "output_type": "stream",
     "text": [
      "['1,5 Star,5,100', '2,LotteChokoPie,5,100', '3,Dairy Milk,10,100', '4,Parle-G,5,120', '5,Happy-Happy,5,150']\n"
     ]
    }
   ],
   "source": [
    "#Show user the options\n",
    "fd = open(\"Inventory.txt\",'r')\n",
    "txt = fd.read()\n",
    "all_opt = txt.split(\"\\n\")\n",
    "print(all_opt)\n",
    "fd.close()"
   ]
  },
  {
   "cell_type": "code",
   "execution_count": 125,
   "metadata": {},
   "outputs": [
    {
     "name": "stdout",
     "output_type": "stream",
     "text": [
      "1,5 Star,5,100\n",
      "2,LotteChokoPie,5,100\n",
      "3,Dairy Milk,10,100\n",
      "4,Parle-G,5,120\n",
      "5,Happy-Happy,5,150\n"
     ]
    }
   ],
   "source": [
    "for i in all_opt:\n",
    "    print(i)"
   ]
  },
  {
   "cell_type": "code",
   "execution_count": 126,
   "metadata": {},
   "outputs": [
    {
     "name": "stdout",
     "output_type": "stream",
     "text": [
      "Sorry! We have only 100 items.\n",
      "Would you like to purchase it.\n",
      "------------------------------\n",
      "Product Name:  5 Star\n",
      "Price:  5\n",
      "Quantity:  100\n",
      "------------------------------\n",
      "Billing Amount:  500\n",
      "------------------------------\n"
     ]
    },
    {
     "data": {
      "text/plain": [
       "['1,5 Star,5,0\\n',\n",
       " '2,LotteChokoPie,5,100\\n',\n",
       " '3,Dairy Milk,10,100\\n',\n",
       " '4,Parle-G,5,120\\n',\n",
       " '5,Happy-Happy,5,150']"
      ]
     },
     "execution_count": 126,
     "metadata": {},
     "output_type": "execute_result"
    }
   ],
   "source": [
    "#Take user input\n",
    "user_name = input(\"Enter your name: \")\n",
    "user_mail = input(\"Enter your Email: \")\n",
    "user_phone = input(\"Enter your Phone Number: \")\n",
    "user_input_id = input(\"Enter the ID number:\")\n",
    "user_input_quan = input(\"Enter the quantity: \")\n",
    "updated_lst = []\n",
    "user_check = 0\n",
    "for i in all_opt:\n",
    "    s_no = i.split(\",\")\n",
    "    if(s_no[0]==user_input_id):\n",
    "        if(int(user_input_quan)<=int(s_no[3])):\n",
    "            print(\"-\"*30)\n",
    "            print(\"Product Name: \",s_no[1])\n",
    "            print(\"Price: \",s_no[2])\n",
    "            print(\"Quantity: \",user_input_quan)\n",
    "            print(\"-\"*30)\n",
    "            print(\"Billing Amount: \",int(s_no[2])*int(user_input_quan))\n",
    "            print(\"-\"*30)\n",
    "            \n",
    "            s_no[3] = str(int(s_no[3])-int(user_input_quan))\n",
    "            fd = open(\"Sales.txt\",'a')\n",
    "            sales_deatails = \"User: \"+user_name+\"\\nPhone Number: \"+user_phone+\"\\nEmail: \"+user_mail+\"\\nProduct: \"+s_no[1]+\"\\nQuantity Purchased: \"+user_input_quan+\"\\nPrice: \"+str(int(user_input_quan)*int(s_no[2]))+\"\\n\\n\\n\"\n",
    "            fd.write(sales_deatails)\n",
    "            fd.close()\n",
    "        else:\n",
    "            print(\"Sorry! We have only \"+s_no[3]+\" items.\\nWould you like to purchase it.\")\n",
    "            ch = input(\"Yes/No: \")\n",
    "            if(ch==\"Yes\" or \"yes\"):\n",
    "                print(\"-\"*30)\n",
    "                print(\"Product Name: \",s_no[1])\n",
    "                print(\"Price: \",s_no[2])\n",
    "                print(\"Quantity: \",s_no[3])\n",
    "                print(\"-\"*30)\n",
    "                print(\"Billing Amount: \",int(s_no[2])*int(s_no[3]))\n",
    "                print(\"-\"*30)\n",
    "                fd = open(\"Sales.txt\",'a')\n",
    "                sales_deatails = \"User: \"+user_name+\"\\nPhone Number: \"+user_phone+\"\\nEmail: \"+user_mail+\"\\nProduct: \"+s_no[1]+\"\\nQuantity Purchased: \"+s_no[3]+\"\\nPrice: \"+str(int(s_no[3])*int(s_no[2]))+\"\\n\\n\\n\"\n",
    "                fd.write(sales_deatails)\n",
    "                fd.close()\n",
    "                s_no[3] = '0'\n",
    "            else:\n",
    "                print(\"Thanks!\")\n",
    "        user_check = 1\n",
    "    updated_lst.append(s_no)\n",
    "lst =[]\n",
    "if (user_check==0):\n",
    "    print(\"Sorry asked product is currently unavailable.\")\n",
    "for i in updated_lst:\n",
    "    prod = i[0]+\",\"+i[1]+\",\"+i[2]+\",\"+i[3]+'\\n'\n",
    "    lst.append(prod)\n",
    "lst[-1] = lst[-1][:-1]                       #imp\n",
    "lst"
   ]
  },
  {
   "cell_type": "code",
   "execution_count": 127,
   "metadata": {},
   "outputs": [
    {
     "name": "stdout",
     "output_type": "stream",
     "text": [
      "Inventory Updated\n",
      "------------------------------\n"
     ]
    }
   ],
   "source": [
    "#Adding the updated data in the inventory text file\n",
    "fd = open(\"Inventory.txt\",'w')\n",
    "for i in lst:\n",
    "    fd.write(i)\n",
    "fd.close()\n",
    "print(\"Inventory Updated\")\n",
    "print(\"-\"*30)"
   ]
  },
  {
   "cell_type": "code",
   "execution_count": null,
   "metadata": {},
   "outputs": [],
   "source": []
  }
 ],
 "metadata": {
  "kernelspec": {
   "display_name": "Python 3",
   "language": "python",
   "name": "python3"
  },
  "language_info": {
   "codemirror_mode": {
    "name": "ipython",
    "version": 3
   },
   "file_extension": ".py",
   "mimetype": "text/x-python",
   "name": "python",
   "nbconvert_exporter": "python",
   "pygments_lexer": "ipython3",
   "version": "3.12.2"
  }
 },
 "nbformat": 4,
 "nbformat_minor": 2
}
